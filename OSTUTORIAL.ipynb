{
 "cells": [
  {
   "cell_type": "code",
   "execution_count": 1,
   "metadata": {},
   "outputs": [],
   "source": [
    "import os"
   ]
  },
  {
   "cell_type": "code",
   "execution_count": 2,
   "metadata": {},
   "outputs": [],
   "source": [
    "os.chdir('/Users/sikandaransari/Documents/PhD/Nurs6806CompSci/myProject/')"
   ]
  },
  {
   "cell_type": "code",
   "execution_count": 3,
   "metadata": {},
   "outputs": [
    {
     "name": "stdout",
     "output_type": "stream",
     "text": [
      "/Users/sikandaransari/Documents/PhD/Nurs6806CompSci/myProject\n"
     ]
    }
   ],
   "source": [
    "print(os.getcwd())"
   ]
  },
  {
   "cell_type": "code",
   "execution_count": 4,
   "metadata": {},
   "outputs": [
    {
     "name": "stdout",
     "output_type": "stream",
     "text": [
      "slc.jpeg\n",
      "exerPythDataScienceTut\n",
      ".DS_Store\n",
      "test2.txt\n",
      "test_copy.txt\n",
      "slc_copy.jpeg\n",
      "myName.txt\n",
      "exerPythFilesTutorial\n",
      "exerPythBasicsTutorial\n",
      "exerPythCheckInstal\n",
      "exerPythDateTime\n",
      "exerPythCreateBasic\n",
      "exerPythFileRename\n",
      "exerPythOsTutorial\n",
      "exerPythCondaEnvPkgs\n",
      "test.txt\n",
      ".ipynb_checkpoints\n",
      "exerGitPractice\n",
      ".git\n",
      "exerPythModPackTutorial\n"
     ]
    }
   ],
   "source": [
    "for f in os.listdir():\n",
    "    print(f)"
   ]
  },
  {
   "cell_type": "code",
   "execution_count": 5,
   "metadata": {},
   "outputs": [
    {
     "name": "stdout",
     "output_type": "stream",
     "text": [
      "('slc', '.jpeg')\n",
      "('exerPythDataScienceTut', '')\n",
      "('.DS_Store', '')\n",
      "('test2', '.txt')\n",
      "('test_copy', '.txt')\n",
      "('slc_copy', '.jpeg')\n",
      "('myName', '.txt')\n",
      "('exerPythFilesTutorial', '')\n",
      "('exerPythBasicsTutorial', '')\n",
      "('exerPythCheckInstal', '')\n",
      "('exerPythDateTime', '')\n",
      "('exerPythCreateBasic', '')\n",
      "('exerPythFileRename', '')\n",
      "('exerPythOsTutorial', '')\n",
      "('exerPythCondaEnvPkgs', '')\n",
      "('test', '.txt')\n",
      "('.ipynb_checkpoints', '')\n",
      "('exerGitPractice', '')\n",
      "('.git', '')\n",
      "('exerPythModPackTutorial', '')\n"
     ]
    }
   ],
   "source": [
    "for f in os.listdir():\n",
    "    print(os.path.splitext(f))"
   ]
  },
  {
   "cell_type": "code",
   "execution_count": 6,
   "metadata": {},
   "outputs": [
    {
     "name": "stdout",
     "output_type": "stream",
     "text": [
      "slc\n",
      "exerPythDataScienceTut\n",
      ".DS_Store\n",
      "test2\n",
      "test_copy\n",
      "slc_copy\n",
      "myName\n",
      "exerPythFilesTutorial\n",
      "exerPythBasicsTutorial\n",
      "exerPythCheckInstal\n",
      "exerPythDateTime\n",
      "exerPythCreateBasic\n",
      "exerPythFileRename\n",
      "exerPythOsTutorial\n",
      "exerPythCondaEnvPkgs\n",
      "test\n",
      ".ipynb_checkpoints\n",
      "exerGitPractice\n",
      ".git\n",
      "exerPythModPackTutorial\n"
     ]
    }
   ],
   "source": [
    "for f in os.listdir():\n",
    "    file_name, file_ext = os.path.splitext(f)\n",
    "    print(file_name)"
   ]
  },
  {
   "cell_type": "code",
   "execution_count": 7,
   "metadata": {},
   "outputs": [
    {
     "name": "stdout",
     "output_type": "stream",
     "text": [
      ".jpeg-slc\n",
      "-exerPythDataScienceTut\n",
      "-.DS_Store\n",
      ".txt-test2\n",
      ".txt-test_copy\n",
      ".jpeg-slc_copy\n",
      ".txt-myName\n",
      "-exerPythFilesTutorial\n",
      "-exerPythBasicsTutorial\n",
      "-exerPythCheckInstal\n",
      "-exerPythDateTime\n",
      "-exerPythCreateBasic\n",
      "-exerPythFileRename\n",
      "-exerPythOsTutorial\n",
      "-exerPythCondaEnvPkgs\n",
      ".txt-test\n",
      "-.ipynb_checkpoints\n",
      "-exerGitPractice\n",
      "-.git\n",
      "-exerPythModPackTutorial\n"
     ]
    }
   ],
   "source": [
    "for f in os.listdir():\n",
    "    file_name, file_ext = os.path.splitext(f)\n",
    "    print('{}-{}'.format(file_ext, file_name))"
   ]
  },
  {
   "cell_type": "code",
   "execution_count": 11,
   "metadata": {},
   "outputs": [],
   "source": [
    "new_name = '{}-{}'.format(file_ext, file_name)"
   ]
  },
  {
   "cell_type": "code",
   "execution_count": null,
   "metadata": {},
   "outputs": [],
   "source": []
  }
 ],
 "metadata": {
  "kernelspec": {
   "display_name": "Python 3",
   "language": "python",
   "name": "python3"
  },
  "language_info": {
   "codemirror_mode": {
    "name": "ipython",
    "version": 3
   },
   "file_extension": ".py",
   "mimetype": "text/x-python",
   "name": "python",
   "nbconvert_exporter": "python",
   "pygments_lexer": "ipython3",
   "version": "3.8.3"
  }
 },
 "nbformat": 4,
 "nbformat_minor": 4
}
